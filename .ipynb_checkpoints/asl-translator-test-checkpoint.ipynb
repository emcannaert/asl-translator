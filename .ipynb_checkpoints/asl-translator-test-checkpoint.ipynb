{
 "cells": [
  {
   "cell_type": "code",
   "execution_count": 2,
   "id": "a32814c4-30cc-451c-ba8d-1ff4f09cb997",
   "metadata": {},
   "outputs": [],
   "source": [
    "import torch\n",
    "import torchvision\n",
    "import torchvision.transforms as transforms\n",
    "from PIL import Image\n",
    "import glob"
   ]
  },
  {
   "cell_type": "markdown",
   "id": "06bb0ca6-723d-49a8-8d3c-592a0d3d42b0",
   "metadata": {},
   "source": [
    "### 1. Get training dataset in usable format"
   ]
  },
  {
   "cell_type": "markdown",
   "id": "bf1a25c2-595e-4037-b053-62879bc9096b",
   "metadata": {},
   "source": [
    "- images are in jpg format, need to convert these to PIL Images that will then be converted into tensors\n",
    "  "
   ]
  },
  {
   "cell_type": "code",
   "execution_count": null,
   "id": "3f8cd005-68e1-4e32-bd1b-c47b3bccb3b3",
   "metadata": {},
   "outputs": [],
   "source": [
    "\n"
   ]
  },
  {
   "cell_type": "code",
   "execution_count": null,
   "id": "2261e9bc-79e9-4a1a-8312-51a60ec45ae7",
   "metadata": {},
   "outputs": [],
   "source": [
    "### class to load and store data\n",
    "class image_data:   \n",
    "    def __init__(self):\n",
    "        self.train_data    = [] # train data in tensor format\n",
    "        self.test_data     = [] # test data in tensor format\n",
    "        self.validate_data = [] # validation data in tensor format\n",
    "        load_train_data()\n",
    "        load_test_data()\n",
    "    ### give this an image filename and it will return the transformed tensor \n",
    "    def convert_jpg_to_tensor(self,filepath):\n",
    "        image = Image.open(filepath) \n",
    "          \n",
    "        # Define a transform to convert PIL  \n",
    "        # image to a Torch tensor \n",
    "        transform = transforms.Compose([ \n",
    "            transforms.PILToTensor() \n",
    "        ]) \n",
    "          \n",
    "        # transform = transforms.PILToTensor() \n",
    "        # Convert the PIL image to Torch tensor \n",
    "        return transform(image)\n",
    "\n",
    "    ### load training data into the instance variable train_data\n",
    "    def load_train_data(self,str_):\n",
    "        train_filepaths = glob.glob(\"asl_alphabet_train\")\n",
    "        print(train_filepaths)\n",
    "        return\n",
    "    ### load test data into the instance variable train_data\n",
    "    def load_test_data(self):\n",
    "        return\n",
    "\n",
    "    "
   ]
  },
  {
   "cell_type": "code",
   "execution_count": null,
   "id": "c80220e5-acf4-4c78-9ff5-d6845bcb03fd",
   "metadata": {},
   "outputs": [],
   "source": []
  },
  {
   "cell_type": "code",
   "execution_count": null,
   "id": "222cf2ba-d5ea-4b3a-8f78-0eb3d25a3759",
   "metadata": {},
   "outputs": [],
   "source": []
  }
 ],
 "metadata": {
  "kernelspec": {
   "display_name": "Python 3 (ipykernel)",
   "language": "python",
   "name": "python3"
  },
  "language_info": {
   "codemirror_mode": {
    "name": "ipython",
    "version": 3
   },
   "file_extension": ".py",
   "mimetype": "text/x-python",
   "name": "python",
   "nbconvert_exporter": "python",
   "pygments_lexer": "ipython3",
   "version": "3.10.0"
  }
 },
 "nbformat": 4,
 "nbformat_minor": 5
}
